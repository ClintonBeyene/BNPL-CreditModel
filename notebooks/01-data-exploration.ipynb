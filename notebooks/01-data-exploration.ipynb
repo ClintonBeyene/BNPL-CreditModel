{
 "cells": [
  {
   "cell_type": "markdown",
   "metadata": {},
   "source": []
  },
  {
   "cell_type": "code",
   "execution_count": 1,
   "metadata": {},
   "outputs": [],
   "source": [
    "# Import Necessary libraries\n",
    "import numpy as np\n",
    "import pandas as pd"
   ]
  },
  {
   "cell_type": "code",
   "execution_count": 2,
   "metadata": {},
   "outputs": [],
   "source": [
    "# Find main working repository\n",
    "import sys\n",
    "import os\n",
    "sys.path.append(os.path.join(os.path.abspath('..')))"
   ]
  },
  {
   "cell_type": "code",
   "execution_count": 3,
   "metadata": {},
   "outputs": [],
   "source": [
    "import src.data_loading as dl"
   ]
  },
  {
   "cell_type": "code",
   "execution_count": 5,
   "metadata": {},
   "outputs": [
    {
     "name": "stderr",
     "output_type": "stream",
     "text": [
      "Downloading...\n",
      "From: https://drive.google.com/uc?id=1ui98TWYt725H4oD0forEIMLPeSWb_w_w\n",
      "To: c:\\Users\\Hp\\Desktop\\Kifiya\\Week6\\data\\raw\\Xente_Variable_Definitions.xlsx\n",
      "100%|██████████| 5.40k/5.40k [00:00<?, ?B/s]\n",
      "Downloading...\n",
      "From: https://drive.google.com/uc?id=1NBBhkA1p05W-bHjGkWMTaztuxmn9TLpK\n",
      "To: c:\\Users\\Hp\\Desktop\\Kifiya\\Week6\\data\\raw\\Xente_Variable_Definitions.csv\n",
      "100%|██████████| 977/977 [00:00<00:00, 195kB/s]\n",
      "Downloading...\n",
      "From: https://drive.google.com/uc?id=17CzoQKGEtMFuKNU13IykmD0oH2nInhrg\n",
      "To: c:\\Users\\Hp\\Desktop\\Kifiya\\Week6\\data\\raw\\data.xlsx\n",
      "100%|██████████| 7.30M/7.30M [01:00<00:00, 122kB/s]\n",
      "Downloading...\n",
      "From: https://drive.google.com/uc?id=1wFys9ps6YX6KOqcF87LRAjVQsLpLsc-G\n",
      "To: c:\\Users\\Hp\\Desktop\\Kifiya\\Week6\\data\\raw\\data.csv\n",
      "100%|██████████| 17.1M/17.1M [02:35<00:00, 110kB/s] \n"
     ]
    }
   ],
   "source": [
    "file_ids = ['1ui98TWYt725H4oD0forEIMLPeSWb_w_w', '1NBBhkA1p05W-bHjGkWMTaztuxmn9TLpK', \n",
    "           '17CzoQKGEtMFuKNU13IykmD0oH2nInhrg', '1wFys9ps6YX6KOqcF87LRAjVQsLpLsc-G']\n",
    "file_names = ['Xente_Variable_Definitions.xlsx', 'Xente_Variable_Definitions.csv',\n",
    "              'data.xlsx', 'data.csv']\n",
    "output_dir = '../data/raw'\n",
    "\n",
    "# Download the file from google drive \n",
    "dl.download_file_from_google_drive(file_ids, output_dir, file_names)"
   ]
  }
 ],
 "metadata": {
  "kernelspec": {
   "display_name": "venv",
   "language": "python",
   "name": "python3"
  },
  "language_info": {
   "codemirror_mode": {
    "name": "ipython",
    "version": 3
   },
   "file_extension": ".py",
   "mimetype": "text/x-python",
   "name": "python",
   "nbconvert_exporter": "python",
   "pygments_lexer": "ipython3",
   "version": "3.12.5"
  }
 },
 "nbformat": 4,
 "nbformat_minor": 2
}
